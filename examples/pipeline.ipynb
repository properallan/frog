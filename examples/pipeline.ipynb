{
 "cells": [
  {
   "cell_type": "code",
   "execution_count": 2,
   "metadata": {},
   "outputs": [],
   "source": [
    "import h5py\n",
    "import numpy as np\n",
    "from collections.abc import Iterable\n",
    "\n",
    "class HDF5Dataset:\n",
    "    def __init__(self, datapath, datasets=None):\n",
    "        self.datapath = datapath\n",
    "        self.data = None\n",
    "        self.target = None\n",
    "        self._load_data(datasets)\n",
    "\n",
    "    def _load_data(self, datasets: list = None):\n",
    "        with h5py.File(self.datapath, 'r') as f:\n",
    "            if datasets is None:\n",
    "                datasets = list(f.keys())\n",
    "                # select only numerical datasets\n",
    "                datasets = [var for var in datasets if type(\n",
    "                    f[var]) == h5py.Dataset]\n",
    "            self.datasets = datasets\n",
    "\n",
    "            # select data if it is a dataset\n",
    "            self.data = [f[var][:] for var in datasets]\n",
    "\n",
    "        # reshape data if it is 1D\n",
    "        self.data = [data[None, :] if data.ndim ==\n",
    "                     1 else data for data in self.data]\n",
    "\n",
    "        self.start_indexes = {}\n",
    "        self.end_indexes = {}\n",
    "\n",
    "        self.lenghts = [data.shape[0] for data in self.data]\n",
    "\n",
    "        last_index = 0\n",
    "        for i, var in enumerate(self.datasets):\n",
    "            self.start_indexes[var] = 0 + last_index\n",
    "            self.end_indexes[var] = self.lenghts[i] + last_index\n",
    "            last_index += self.lenghts[i]\n",
    "\n",
    "        # concatenate data in a single snapshots\n",
    "        self.data = np.concatenate(self.data, axis=0)\n",
    "\n",
    "    def _slice(self, index):\n",
    "        return slice(self.start_indexes[index], self.end_indexes[index], None)\n",
    "\n",
    "    def __getitem__(self, index):\n",
    "        if isinstance(index, list):\n",
    "            index = tuple([index, slice(None, None, None)])\n",
    "        if isinstance(index, str):\n",
    "            return self.data[self.start_indexes[index]:self.end_indexes[index]]\n",
    "        if isinstance(index, Iterable):\n",
    "            index = list(index)\n",
    "            for i, ind in enumerate(index):\n",
    "                if type(ind) == str:\n",
    "                    index[i] = slice(self.start_indexes[ind],\n",
    "                                     self.end_indexes[ind], None)\n",
    "                elif type(ind) == list:\n",
    "                    return np.concatenate([self.__getitem__(tuple([ind_i, *index[1:]])) for ind_i in ind])\n",
    "            index = tuple(index)\n",
    "        return self.data[index]\n"
   ]
  },
  {
   "cell_type": "code",
   "execution_count": 3,
   "metadata": {},
   "outputs": [
    {
     "data": {
      "text/plain": [
       "(637, 181)"
      ]
     },
     "execution_count": 3,
     "metadata": {},
     "output_type": "execute_result"
    }
   ],
   "source": [
    "lf_dataset = HDF5Dataset(\n",
    "    datapath = '/home/ppiper/Dropbox/local/ihtc_nozzle/data/doe_lhs_multirun_N200/Q1D.hdf5', \n",
    "    datasets= ['M.txt', 'T.txt', 'T0in', 'id', 'p.txt', 'p0in', 'thickness'])\n"
   ]
  },
  {
   "cell_type": "code",
   "execution_count": 4,
   "metadata": {},
   "outputs": [
    {
     "data": {
      "text/plain": [
       "array([[7.64132306e-02, 7.66547023e-02, 7.65043356e-02, ...,\n",
       "        7.67352330e-02, 7.63462537e-02, 7.62746180e-02],\n",
       "       [7.64249854e-02, 7.66664509e-02, 7.65160881e-02, ...,\n",
       "        7.67469795e-02, 7.63580102e-02, 7.62863762e-02],\n",
       "       [7.64596955e-02, 7.67012942e-02, 7.65508484e-02, ...,\n",
       "        7.67818672e-02, 7.63926834e-02, 7.63210099e-02],\n",
       "       ...,\n",
       "       [2.71581173e+02, 3.98954498e+02, 3.15566294e+02, ...,\n",
       "        4.52974906e+02, 2.40809437e+02, 2.08521878e+02],\n",
       "       [2.70379469e+02, 3.97309556e+02, 3.14205914e+02, ...,\n",
       "        4.51152724e+02, 2.39723706e+02, 2.07563008e+02],\n",
       "       [5.87101323e+02, 8.18718119e+02, 6.68921211e+02, ...,\n",
       "        9.13588931e+02, 5.28150863e+02, 4.64457315e+02]])"
      ]
     },
     "execution_count": 4,
     "metadata": {},
     "output_type": "execute_result"
    }
   ],
   "source": [
    "lf_dataset[['M.txt','T.txt','T0in']]"
   ]
  },
  {
   "cell_type": "code",
   "execution_count": 5,
   "metadata": {},
   "outputs": [],
   "source": [
    "u,s,v= np.linalg.svd(lf_dataset[['M.txt','T.txt','T0in']])"
   ]
  },
  {
   "cell_type": "code",
   "execution_count": 6,
   "metadata": {},
   "outputs": [
    {
     "data": {
      "text/plain": [
       "(423, 423)"
      ]
     },
     "execution_count": 6,
     "metadata": {},
     "output_type": "execute_result"
    }
   ],
   "source": [
    "u.shape"
   ]
  },
  {
   "cell_type": "code",
   "execution_count": 581,
   "metadata": {},
   "outputs": [
    {
     "data": {
      "text/plain": [
       "(211, 423)"
      ]
     },
     "execution_count": 581,
     "metadata": {},
     "output_type": "execute_result"
    }
   ],
   "source": []
  },
  {
   "cell_type": "code",
   "execution_count": null,
   "metadata": {},
   "outputs": [],
   "source": []
  }
 ],
 "metadata": {
  "kernelspec": {
   "display_name": "Python 3",
   "language": "python",
   "name": "python3"
  },
  "language_info": {
   "codemirror_mode": {
    "name": "ipython",
    "version": 3
   },
   "file_extension": ".py",
   "mimetype": "text/x-python",
   "name": "python",
   "nbconvert_exporter": "python",
   "pygments_lexer": "ipython3",
   "version": "3.10.11"
  },
  "orig_nbformat": 4
 },
 "nbformat": 4,
 "nbformat_minor": 2
}
